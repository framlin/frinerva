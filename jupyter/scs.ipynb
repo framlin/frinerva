{
 "cells": [
  {
   "cell_type": "code",
   "execution_count": 1,
   "metadata": {
    "collapsed": true,
    "jupyter": {
     "outputs_hidden": true
    }
   },
   "outputs": [],
   "source": [
    "from management.service_carges.service_charge_statement import ServiceChargeStatement\n",
    "scs = ServiceChargeStatement()"
   ]
  },
  {
   "cell_type": "code",
   "execution_count": 2,
   "metadata": {
    "pycharm": {
     "name": "#%%\n"
    }
   },
   "outputs": [],
   "source": [
    "scs.load('../data/finance')"
   ]
  },
  {
   "cell_type": "code",
   "execution_count": 3,
   "outputs": [],
   "source": [
    "def compute_scs_saldo(year, scs_type, advance_bc):\n",
    "    dwelling_balance = scs.get_service_charge_balance(year, scs_type)\n",
    "    sc_account = dwelling_balance.get_account('SERVICE_CHARGES')\n",
    "    advance_payment = sc_account.get_booking_entry_by_booking_code(advance_bc)[0].get_amount()\n",
    "\n",
    "    scs_costs = 0\n",
    "    scs_bookings = sc_account.get_bookings()\n",
    "    for be in scs_bookings:\n",
    "        if not be.get_booking_code() == advance_bc:\n",
    "            scs_costs += be.get_amount()\n",
    "\n",
    "    saldo = scs_costs - advance_payment\n",
    "    return saldo"
   ],
   "metadata": {
    "collapsed": false,
    "pycharm": {
     "name": "#%%\n"
    }
   }
  },
  {
   "cell_type": "code",
   "execution_count": 4,
   "outputs": [],
   "source": [
    "scs_dwelling_saldo_2019 = compute_scs_saldo(2019, 'DWELLING', 'HC01')\n",
    "scs_dwelling_saldo_2020 = compute_scs_saldo(2020, 'DWELLING', 'HC01')\n",
    "scs_rental_saldo = compute_scs_saldo(2020, 'RENTAL', 'SC15')"
   ],
   "metadata": {
    "collapsed": false,
    "pycharm": {
     "name": "#%%\n"
    }
   }
  },
  {
   "cell_type": "code",
   "execution_count": 7,
   "outputs": [],
   "source": [
    "def list_entries(year, scs_type, advance_bc):\n",
    "    balance = scs.get_service_charge_balance(year, scs_type)\n",
    "    sc_account = balance.get_account('SERVICE_CHARGES')\n",
    "\n",
    "    result = list()\n",
    "    scs_bookings = sc_account.get_bookings()\n",
    "    for be in scs_bookings:\n",
    "        if not be.get_booking_code() == advance_bc:\n",
    "            scs_list.append([be.get_name(), be.get_amount()])\n",
    "\n",
    "    return result\n",
    "\n",
    "scs_list = list_entries(2020, \"RENTAL\", \"SC15\")"
   ],
   "metadata": {
    "collapsed": false,
    "pycharm": {
     "name": "#%%\n"
    }
   }
  },
  {
   "cell_type": "code",
   "execution_count": null,
   "outputs": [],
   "source": [],
   "metadata": {
    "collapsed": false,
    "pycharm": {
     "name": "#%%\n"
    }
   }
  }
 ],
 "metadata": {
  "kernelspec": {
   "name": "pycharm-2ea85e6c",
   "language": "python",
   "display_name": "PyCharm (frinerva)"
  },
  "language_info": {
   "codemirror_mode": {
    "name": "ipython",
    "version": 3
   },
   "file_extension": ".py",
   "mimetype": "text/x-python",
   "name": "python",
   "nbconvert_exporter": "python",
   "pygments_lexer": "ipython3",
   "version": "3.8.7"
  },
  "toc-autonumbering": false,
  "toc-showcode": true,
  "toc-showmarkdowntxt": true,
  "toc-showtags": false
 },
 "nbformat": 4,
 "nbformat_minor": 4
}