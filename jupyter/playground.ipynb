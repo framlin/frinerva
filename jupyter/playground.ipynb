{
 "cells": [
  {
   "cell_type": "code",
   "execution_count": 6,
   "metadata": {},
   "outputs": [],
   "source": [
    "import pandas as pd"
   ]
  },
  {
   "cell_type": "code",
   "execution_count": 10,
   "outputs": [],
   "source": [
    "df = pd.read_json('../data/finance/2020/service_charges/HOUSE/SERVICE_CHARGES/bookings.json')"
   ],
   "metadata": {
    "collapsed": false,
    "pycharm": {
     "name": "#%%\n"
    }
   }
  },
  {
   "cell_type": "code",
   "execution_count": 11,
   "outputs": [
    {
     "data": {
      "text/plain": "    _amount                    _subject       _date                     _name  \\\n0         0            ww_heating_costs  01.01.2000                HZG und WW   \n1         0              cw_house_costs  01.01.2000  Hausnebenkosten inkl. KW   \n2         0               house_current  01.01.2020                 Hausstrom   \n3         0  house_janitor_compensation  01.01.2020               Hausmeister   \n4         0              fire_insurance  01.01.2020         Feuerversicherung   \n5         0         liability_insurance  01.01.2020               Haftpflicht   \n6         0          building_insurance  01.01.2020       Gebäudeversicherung   \n7      1000           maintenance_costs  01.01.2020            Instandhaltung   \n8      2000                    reserves  01.01.2020            Rücklagenkonto   \n9         0          account_management  01.01.2020              Kontoführung   \n10        0  administrator_compensation  01.01.2020        Verwaltervergütung   \n\n   _booking_code   _end_date  _portion _billable  \\\n0           SC02  01.01.2000         0      true   \n1           SC03  01.01.2000         0      true   \n2           SC04  31.12.2020         1      true   \n3           SC05  31.12.2020         1      true   \n4           SC08  31.12.2020         1     false   \n5           SC09  31.12.2020         1     false   \n6           SC10  31.12.2020         1     false   \n7           SC11  31.12.2020         1     false   \n8           SC12  31.12.2020         1     false   \n9           SC13  31.12.2020         1     false   \n10          SC14  31.12.2020         2     false   \n\n                                                  _id  \n0   91c74192f6454b23cbd8c7ecd0c9dee6c1376b985603b4...  \n1   321a8a395cc23087e9842aff9b8a4d67620417ac1ddc0f...  \n2   a85dd0edaea342b374326b9fe0adbd9cf71e50c5ca9a75...  \n3   f99185b9b96e45a3a866bc5a4c026b451b75eaa7c9700f...  \n4   a176738d7061dc659a180d6ba3c144b6795078f1e7cc2c...  \n5   1e9da3de8d31f3bfe4702cebf8288079b13017da72dcde...  \n6   0919d45e4524ea902e392c22ff66793b1bb21b2bda0d04...  \n7   a45bc424d1c13f82f717f6b38a2fe7d65d619388e753e8...  \n8   80dfca8e4a2ca941e9eb7ab8fae0ba7f057c10be5ae521...  \n9   d679175422a87bb093fa5b249374caa420e9c43af2ab54...  \n10  d9524f8bc2344e45f3a275018dcdc241f4aebbcca51023...  ",
      "text/html": "<div>\n<style scoped>\n    .dataframe tbody tr th:only-of-type {\n        vertical-align: middle;\n    }\n\n    .dataframe tbody tr th {\n        vertical-align: top;\n    }\n\n    .dataframe thead th {\n        text-align: right;\n    }\n</style>\n<table border=\"1\" class=\"dataframe\">\n  <thead>\n    <tr style=\"text-align: right;\">\n      <th></th>\n      <th>_amount</th>\n      <th>_subject</th>\n      <th>_date</th>\n      <th>_name</th>\n      <th>_booking_code</th>\n      <th>_end_date</th>\n      <th>_portion</th>\n      <th>_billable</th>\n      <th>_id</th>\n    </tr>\n  </thead>\n  <tbody>\n    <tr>\n      <th>0</th>\n      <td>0</td>\n      <td>ww_heating_costs</td>\n      <td>01.01.2000</td>\n      <td>HZG und WW</td>\n      <td>SC02</td>\n      <td>01.01.2000</td>\n      <td>0</td>\n      <td>true</td>\n      <td>91c74192f6454b23cbd8c7ecd0c9dee6c1376b985603b4...</td>\n    </tr>\n    <tr>\n      <th>1</th>\n      <td>0</td>\n      <td>cw_house_costs</td>\n      <td>01.01.2000</td>\n      <td>Hausnebenkosten inkl. KW</td>\n      <td>SC03</td>\n      <td>01.01.2000</td>\n      <td>0</td>\n      <td>true</td>\n      <td>321a8a395cc23087e9842aff9b8a4d67620417ac1ddc0f...</td>\n    </tr>\n    <tr>\n      <th>2</th>\n      <td>0</td>\n      <td>house_current</td>\n      <td>01.01.2020</td>\n      <td>Hausstrom</td>\n      <td>SC04</td>\n      <td>31.12.2020</td>\n      <td>1</td>\n      <td>true</td>\n      <td>a85dd0edaea342b374326b9fe0adbd9cf71e50c5ca9a75...</td>\n    </tr>\n    <tr>\n      <th>3</th>\n      <td>0</td>\n      <td>house_janitor_compensation</td>\n      <td>01.01.2020</td>\n      <td>Hausmeister</td>\n      <td>SC05</td>\n      <td>31.12.2020</td>\n      <td>1</td>\n      <td>true</td>\n      <td>f99185b9b96e45a3a866bc5a4c026b451b75eaa7c9700f...</td>\n    </tr>\n    <tr>\n      <th>4</th>\n      <td>0</td>\n      <td>fire_insurance</td>\n      <td>01.01.2020</td>\n      <td>Feuerversicherung</td>\n      <td>SC08</td>\n      <td>31.12.2020</td>\n      <td>1</td>\n      <td>false</td>\n      <td>a176738d7061dc659a180d6ba3c144b6795078f1e7cc2c...</td>\n    </tr>\n    <tr>\n      <th>5</th>\n      <td>0</td>\n      <td>liability_insurance</td>\n      <td>01.01.2020</td>\n      <td>Haftpflicht</td>\n      <td>SC09</td>\n      <td>31.12.2020</td>\n      <td>1</td>\n      <td>false</td>\n      <td>1e9da3de8d31f3bfe4702cebf8288079b13017da72dcde...</td>\n    </tr>\n    <tr>\n      <th>6</th>\n      <td>0</td>\n      <td>building_insurance</td>\n      <td>01.01.2020</td>\n      <td>Gebäudeversicherung</td>\n      <td>SC10</td>\n      <td>31.12.2020</td>\n      <td>1</td>\n      <td>false</td>\n      <td>0919d45e4524ea902e392c22ff66793b1bb21b2bda0d04...</td>\n    </tr>\n    <tr>\n      <th>7</th>\n      <td>1000</td>\n      <td>maintenance_costs</td>\n      <td>01.01.2020</td>\n      <td>Instandhaltung</td>\n      <td>SC11</td>\n      <td>31.12.2020</td>\n      <td>1</td>\n      <td>false</td>\n      <td>a45bc424d1c13f82f717f6b38a2fe7d65d619388e753e8...</td>\n    </tr>\n    <tr>\n      <th>8</th>\n      <td>2000</td>\n      <td>reserves</td>\n      <td>01.01.2020</td>\n      <td>Rücklagenkonto</td>\n      <td>SC12</td>\n      <td>31.12.2020</td>\n      <td>1</td>\n      <td>false</td>\n      <td>80dfca8e4a2ca941e9eb7ab8fae0ba7f057c10be5ae521...</td>\n    </tr>\n    <tr>\n      <th>9</th>\n      <td>0</td>\n      <td>account_management</td>\n      <td>01.01.2020</td>\n      <td>Kontoführung</td>\n      <td>SC13</td>\n      <td>31.12.2020</td>\n      <td>1</td>\n      <td>false</td>\n      <td>d679175422a87bb093fa5b249374caa420e9c43af2ab54...</td>\n    </tr>\n    <tr>\n      <th>10</th>\n      <td>0</td>\n      <td>administrator_compensation</td>\n      <td>01.01.2020</td>\n      <td>Verwaltervergütung</td>\n      <td>SC14</td>\n      <td>31.12.2020</td>\n      <td>2</td>\n      <td>false</td>\n      <td>d9524f8bc2344e45f3a275018dcdc241f4aebbcca51023...</td>\n    </tr>\n  </tbody>\n</table>\n</div>"
     },
     "execution_count": 11,
     "metadata": {},
     "output_type": "execute_result"
    }
   ],
   "source": [
    "df\n"
   ],
   "metadata": {
    "collapsed": false,
    "pycharm": {
     "name": "#%%\n"
    }
   }
  },
  {
   "cell_type": "code",
   "execution_count": null,
   "outputs": [],
   "source": [],
   "metadata": {
    "collapsed": false,
    "pycharm": {
     "name": "#%%\n"
    }
   }
  }
 ],
 "metadata": {
  "kernelspec": {
   "name": "pycharm-2ea85e6c",
   "language": "python",
   "display_name": "PyCharm (frinerva)"
  },
  "language_info": {
   "codemirror_mode": {
    "name": "ipython",
    "version": 3
   },
   "file_extension": ".py",
   "mimetype": "text/x-python",
   "name": "python",
   "nbconvert_exporter": "python",
   "pygments_lexer": "ipython3",
   "version": "3.8.11"
  }
 },
 "nbformat": 4,
 "nbformat_minor": 4
}