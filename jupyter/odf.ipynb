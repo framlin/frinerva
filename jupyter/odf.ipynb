{
 "cells": [
  {
   "cell_type": "code",
   "execution_count": 1,
   "metadata": {
    "collapsed": true
   },
   "outputs": [],
   "source": [
    "from odf.opendocument import OpenDocumentText, unicode\n",
    "from odf.style import Style, TextProperties\n",
    "from odf.text import H, P, Span, List, ListItem\n",
    "\n",
    "textdoc = OpenDocumentText()\n",
    "# Styles\n",
    "s = textdoc.styles\n",
    "h1style = Style(name=\"Heading 1\", family=\"paragraph\")\n",
    "h1style.addElement(TextProperties(attributes={'fontsize':\"24pt\",'fontweight':\"bold\" }))\n",
    "s.addElement(h1style)\n",
    "# An automatic style\n",
    "boldstyle = Style(name=\"Bold\", family=\"text\")\n",
    "boldprop = TextProperties(fontweight=\"bold\")\n",
    "boldstyle.addElement(boldprop)\n",
    "textdoc.automaticstyles.addElement(boldstyle)\n",
    "# Text\n",
    "h=H(outlinelevel=1, stylename=h1style, text=\"My first text\")\n",
    "textdoc.text.addElement(h)\n",
    "p = P(text=\"Hello world. \")\n",
    "boldpart = Span(stylename=boldstyle, text=\"This part is bold. \")\n",
    "p.addElement(boldpart)\n",
    "p.addText(\"This is after bold.\")\n",
    "textdoc.text.addElement(p)\n",
    "\n",
    "textdoc.save(\"../data/reports/myfirstdocument.odt\")\n",
    "\n",
    "\n",
    "\n"
   ]
  },
  {
   "cell_type": "code",
   "execution_count": 2,
   "outputs": [],
   "source": [
    "from management.service_carges.service_charge_statement import ServiceChargeStatement\n",
    "scs = ServiceChargeStatement()"
   ],
   "metadata": {
    "collapsed": false,
    "pycharm": {
     "name": "#%%\n"
    }
   }
  },
  {
   "cell_type": "code",
   "execution_count": 3,
   "outputs": [],
   "source": [
    "scs.load('../data/finance')"
   ],
   "metadata": {
    "collapsed": false,
    "pycharm": {
     "name": "#%%\n"
    }
   }
  },
  {
   "cell_type": "code",
   "execution_count": 4,
   "outputs": [],
   "source": [
    "def compute_scs_saldo(year, scs_type, advance_bc):\n",
    "    dwelling_balance = scs.get_service_charge_balance(year, scs_type)\n",
    "    sc_account = dwelling_balance.get_account('SERVICE_CHARGES')\n",
    "    advance_payment = sc_account.get_booking_entry_by_booking_code(advance_bc)[0].get_amount()\n",
    "\n",
    "    scs_costs = 0\n",
    "    scs_bookings = sc_account.get_bookings()\n",
    "    for be in scs_bookings:\n",
    "        if not be.get_booking_code() == advance_bc:\n",
    "            scs_costs += be.get_amount()\n",
    "\n",
    "    saldo =  advance_payment - scs_costs\n",
    "    return scs_costs, advance_payment, saldo"
   ],
   "metadata": {
    "collapsed": false,
    "pycharm": {
     "name": "#%%\n"
    }
   }
  },
  {
   "cell_type": "code",
   "execution_count": 5,
   "outputs": [],
   "source": [
    "scs_costs, advance, saldo = compute_scs_saldo(2020, 'RENTAL', 'SC15')\n"
   ],
   "metadata": {
    "collapsed": false,
    "pycharm": {
     "name": "#%%\n"
    }
   }
  },
  {
   "cell_type": "code",
   "execution_count": 6,
   "outputs": [],
   "source": [
    "def list_entries(year, scs_type, advance_bc):\n",
    "    balance = scs.get_service_charge_balance(year, scs_type)\n",
    "    sc_account = balance.get_account('SERVICE_CHARGES')\n",
    "\n",
    "    result = list()\n",
    "    scs_bookings = sc_account.get_bookings()\n",
    "    for be in scs_bookings:\n",
    "        if not be.get_booking_code() == advance_bc:\n",
    "            result.append([be.get_name(), be.get_amount()])\n",
    "\n",
    "    return result\n",
    "\n",
    "year = 2020\n",
    "scs_list = list_entries(year, \"RENTAL\", \"SC15\")\n"
   ],
   "metadata": {
    "collapsed": false,
    "pycharm": {
     "name": "#%%\n"
    }
   }
  },
  {
   "cell_type": "code",
   "execution_count": 16,
   "outputs": [],
   "source": [
    "from odf import opendocument, text, teletype\n",
    "from odf.opendocument import OpenDocumentText\n",
    "from odf.style import (Style, TextProperties, ParagraphProperties,\n",
    "                       ListLevelProperties, TabStop, TabStops)\n",
    "from odf.text import (H, P, List, ListItem, ListStyle, ListLevelStyleNumber,\n",
    "                      ListLevelStyleBullet)\n",
    "from odf import teletype\n",
    "from odf.table import Table, TableColumn, TableRow, TableCell\n",
    "\n",
    "from datetime import date\n",
    "aktuellesDatum = date.today().strftime(\"%d.%m.%Y\")\n",
    "\n",
    "# Creating different style used in the document\n",
    "st = textdoc.styles\n",
    "\n",
    "\n",
    "bulletedliststyle = ListStyle(name=\"BulletList\")\n",
    "level = 1\n",
    "bulletlistproperty = ListLevelStyleBullet(level=str(level), bulletchar=u\"•\")\n",
    "bulletlistproperty.addElement(ListLevelProperties(\n",
    "    minlabelwidth=\"%fcm\" % level))\n",
    "bulletedliststyle.addElement(bulletlistproperty)\n",
    "st.addElement(bulletedliststyle)\n",
    "\n",
    "\n",
    "# Creating a tabstop at 10cm\n",
    "tabstops_style = TabStops()\n",
    "tabstop_style = TabStop(position=\"10cm\")\n",
    "tabstops_style.addElement(tabstop_style)\n",
    "tabstoppar = ParagraphProperties()\n",
    "tabstoppar.addElement(tabstops_style)\n",
    "tabparagraphstyle = Style(name=\"Question\", family=\"paragraph\")\n",
    "tabparagraphstyle.addElement(tabstoppar)\n",
    "st.addElement(tabparagraphstyle)\n",
    "\n",
    "tablecontents = Style(name=\"Table Contents\", family=\"paragraph\")\n",
    "tablecontents.addElement(ParagraphProperties(numberlines=\"false\", linenumber=\"0\"))\n",
    "textdoc.styles.addElement(tablecontents)\n",
    "\n",
    "\n",
    "\n",
    "doc = opendocument.load('../data/reports/scs_template.odt')\n",
    "for item in doc.getElementsByType(text.P):\n",
    "    s = teletype.extractText(item)\n",
    "\n",
    "    if s.find('[[date]]') != -1:\n",
    "        s = s.replace('[[date]]', str(aktuellesDatum))\n",
    "        new_item = text.P()\n",
    "        new_item.setAttribute('stylename', item.getAttribute('stylename'))\n",
    "        new_item.addText(s)\n",
    "        item.parentNode.insertBefore(new_item, item)\n",
    "        item.parentNode.removeChild(item)\n",
    "\n",
    "    if s.find('[[year]]') != -1:\n",
    "        s = s.replace('[[year]]', str(year))\n",
    "        new_item = text.P()\n",
    "        new_item.setAttribute('stylename', item.getAttribute('stylename'))\n",
    "        new_item.addText(s)\n",
    "        item.parentNode.insertBefore(new_item, item)\n",
    "        item.parentNode.removeChild(item)\n",
    "\n",
    "    if s.find('[[cost]]') != -1:\n",
    "        s = s.replace('[[cost]]', str(scs_costs))\n",
    "        new_item = text.P()\n",
    "        new_item.setAttribute('stylename', item.getAttribute('stylename'))\n",
    "        new_item.addText(s)\n",
    "        item.parentNode.insertBefore(new_item, item)\n",
    "        item.parentNode.removeChild(item)\n",
    "\n",
    "    if s.find('[[advance]]') != -1:\n",
    "        s = s.replace('[[advance]]', str(advance))\n",
    "        new_item = text.P()\n",
    "        new_item.setAttribute('stylename', item.getAttribute('stylename'))\n",
    "        new_item.addText(s)\n",
    "        item.parentNode.insertBefore(new_item, item)\n",
    "        item.parentNode.removeChild(item)\n",
    "\n",
    "    if s.find('[[saldo]]') != -1:\n",
    "        s = s.replace('[[saldo]]', str(saldo))\n",
    "        new_item = text.P()\n",
    "        new_item.setAttribute('stylename', item.getAttribute('stylename'))\n",
    "        new_item.addText(s)\n",
    "        item.parentNode.insertBefore(new_item, item)\n",
    "        item.parentNode.removeChild(item)\n",
    "\n",
    "    if s.find('[[scs_list]]') != -1:\n",
    "        table = Table()\n",
    "        table.addElement(TableColumn())\n",
    "        table.addElement(TableColumn())\n",
    "        # bulletlist = List(stylename=bulletedliststyle)\n",
    "        for elem in scs_list:\n",
    "            # list_elem = ListItem()\n",
    "            # list_para = P(stylename=tabparagraphstyle)\n",
    "            # list_content = elem[0]+\":\\t\"+str(elem[1])+' €'\n",
    "            # teletype.addTextToElement(list_para, list_content)\n",
    "            # list_elem.addElement(list_para)\n",
    "            # bulletlist.addElement(list_elem)\n",
    "            tr = TableRow()\n",
    "            table.addElement(tr)\n",
    "            tc = TableCell()\n",
    "            tr.addElement(tc)\n",
    "            p = P(stylename=tablecontents,text=elem[0])\n",
    "            tc.addElement(p)\n",
    "            tc2 = TableCell()\n",
    "            tr.addElement(tc2)\n",
    "            p2 = P(stylename=tablecontents,text=str(elem[1])+ ' €')\n",
    "            tc2.addElement(p2)\n",
    "\n",
    "        item.parentNode.insertBefore(table, item)\n",
    "        item.parentNode.removeChild(item)\n",
    "\n",
    "doc.save('../data/reports/result.odt')"
   ],
   "metadata": {
    "collapsed": false,
    "pycharm": {
     "name": "#%%\n"
    }
   }
  },
  {
   "cell_type": "code",
   "execution_count": 7,
   "outputs": [],
   "source": [],
   "metadata": {
    "collapsed": false,
    "pycharm": {
     "name": "#%%\n"
    }
   }
  },
  {
   "cell_type": "code",
   "execution_count": 7,
   "outputs": [],
   "source": [],
   "metadata": {
    "collapsed": false,
    "pycharm": {
     "name": "#%%\n"
    }
   }
  }
 ],
 "metadata": {
  "kernelspec": {
   "name": "pycharm-2ea85e6c",
   "language": "python",
   "display_name": "PyCharm (frinerva)"
  },
  "language_info": {
   "codemirror_mode": {
    "name": "ipython",
    "version": 2
   },
   "file_extension": ".py",
   "mimetype": "text/x-python",
   "name": "python",
   "nbconvert_exporter": "python",
   "pygments_lexer": "ipython2",
   "version": "2.7.6"
  }
 },
 "nbformat": 4,
 "nbformat_minor": 0
}